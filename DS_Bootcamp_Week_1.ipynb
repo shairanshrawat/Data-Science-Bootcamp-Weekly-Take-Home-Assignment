{
  "nbformat": 4,
  "nbformat_minor": 0,
  "metadata": {
    "colab": {
      "provenance": []
    },
    "kernelspec": {
      "name": "python3",
      "display_name": "Python 3"
    },
    "language_info": {
      "name": "python"
    }
  },
  "cells": [
    {
      "cell_type": "markdown",
      "source": [
        "1.⁠ ⁠Display Fibonacci Series upto 10 terms"
      ],
      "metadata": {
        "id": "1lHs4Ymo_POV"
      }
    },
    {
      "cell_type": "code",
      "execution_count": 5,
      "metadata": {
        "colab": {
          "base_uri": "https://localhost:8080/"
        },
        "id": "aeC4VZMb_Dls",
        "outputId": "b952557f-3630-4841-abe3-f091d0ac5358"
      },
      "outputs": [
        {
          "output_type": "stream",
          "name": "stdout",
          "text": [
            "0\n",
            "1\n",
            "1\n",
            "2\n",
            "3\n",
            "5\n",
            "8\n",
            "13\n",
            "21\n",
            "34\n"
          ]
        }
      ],
      "source": [
        "def fibonacci(n):\n",
        "  a = 0\n",
        "  b = 1\n",
        "  for r in range(n):\n",
        "    print(a)\n",
        "    q = b\n",
        "    b = a+b\n",
        "    a = q\n",
        "\n",
        "fibonacci(10)"
      ]
    },
    {
      "cell_type": "markdown",
      "source": [
        "2.⁠ ⁠Display numbers at the odd indices of a list"
      ],
      "metadata": {
        "id": "3xsfAT0M_Rxj"
      }
    },
    {
      "cell_type": "code",
      "source": [
        "def odd(q):\n",
        "  for i in range(len(q)):\n",
        "    if (i % 2 != 0):\n",
        "      print(q[i])\n",
        "\n",
        "list = [1, 2, 3, 4, 5]\n",
        "odd(list)\n"
      ],
      "metadata": {
        "colab": {
          "base_uri": "https://localhost:8080/"
        },
        "id": "QSs4DT3r_SYq",
        "outputId": "87a01410-f78f-4bc7-96cd-0b3a1c54c783"
      },
      "execution_count": 6,
      "outputs": [
        {
          "output_type": "stream",
          "name": "stdout",
          "text": [
            "2\n",
            "4\n"
          ]
        }
      ]
    },
    {
      "cell_type": "markdown",
      "source": [
        "3.⁠ ⁠⁠string = \"\"\"\n",
        "\n",
        "I have provided this text to provide tips on creating interesting paragraphs.\n",
        "\n",
        "First, start with a clear topic sentence that introduces the main idea.\n",
        "\n",
        "Then, support the topic sentence with specific details, examples, and evidence.\n",
        "\n",
        "Vary the sentence length and structure to keep the reader engaged.\n",
        "\n",
        "Finally, end with a strong concluding sentence that summarizes the main points.\n",
        "\n",
        "Remember, practice makes perfect!\n",
        "\n",
        "\"\"\"\n",
        "\n",
        "Your task is to count the number of different words in this text\n",
        "\n"
      ],
      "metadata": {
        "id": "6htPFQSZ_TA2"
      }
    },
    {
      "cell_type": "code",
      "source": [
        "string = \"\"\"\n",
        "I have provided this text to provide tips on creating interesting paragraphs.\n",
        "\n",
        "First, start with a clear topic sentence that introduces the main idea.\n",
        "\n",
        "Then, support the topic sentence with specific details, examples, and evidence.\n",
        "\n",
        "Vary the sentence length and structure to keep the reader engaged.\n",
        "\n",
        "Finally, end with a strong concluding sentence that summarizes the main points.\n",
        "\n",
        "Remember, practice makes perfect!\n",
        "\"\"\"\n",
        "\n",
        "no_unique_words = set(string.split())\n",
        "print(len(no_unique_words))\n"
      ],
      "metadata": {
        "colab": {
          "base_uri": "https://localhost:8080/"
        },
        "id": "76RukVB1_Tho",
        "outputId": "34b421e7-37e0-46e8-9c7e-f43bd6d599b0"
      },
      "execution_count": 8,
      "outputs": [
        {
          "output_type": "stream",
          "name": "stdout",
          "text": [
            "47\n"
          ]
        }
      ]
    },
    {
      "cell_type": "markdown",
      "source": [
        "4.⁠ ⁠Write a function count_vowels(word) that takes a word as an argument and returns the number of vowels in the word"
      ],
      "metadata": {
        "id": "jA8XGcW8_UCP"
      }
    },
    {
      "cell_type": "code",
      "source": [
        "def count_vowels(word):\n",
        "    vowels = \"aeiou\"\n",
        "    count = 0\n",
        "    for letter in word:\n",
        "        if letter in vowels:\n",
        "            count += 1\n",
        "    return count\n",
        "\n",
        "print(count_vowels(\"datascience\"))"
      ],
      "metadata": {
        "colab": {
          "base_uri": "https://localhost:8080/"
        },
        "id": "qaQu5jD0_Ukn",
        "outputId": "29eec5aa-6062-49f7-aa5d-7018644334f2"
      },
      "execution_count": 10,
      "outputs": [
        {
          "output_type": "stream",
          "name": "stdout",
          "text": [
            "5\n"
          ]
        }
      ]
    },
    {
      "cell_type": "markdown",
      "source": [
        "5.⁠ ⁠Iterate through the following list of animals and print each one in all caps.\n",
        "\n",
        "animals=['tiger', 'elephant', 'monkey', 'zebra', 'panther']"
      ],
      "metadata": {
        "id": "mIfBd9P1_VCi"
      }
    },
    {
      "cell_type": "code",
      "source": [
        "animals = ['tiger', 'elephant', 'monkey', 'zebra', 'panther']\n",
        "for i in animals:\n",
        "    print(i.upper())\n"
      ],
      "metadata": {
        "colab": {
          "base_uri": "https://localhost:8080/"
        },
        "id": "AqKHW7ou_Vdp",
        "outputId": "44e11988-9ee4-4f59-9035-a01c4ce8c4f8"
      },
      "execution_count": 11,
      "outputs": [
        {
          "output_type": "stream",
          "name": "stdout",
          "text": [
            "TIGER\n",
            "ELEPHANT\n",
            "MONKEY\n",
            "ZEBRA\n",
            "PANTHER\n"
          ]
        }
      ]
    },
    {
      "cell_type": "markdown",
      "source": [
        "6.⁠ ⁠Write a program that iterates from 1 to 20, printing each number and whether it's odd or even."
      ],
      "metadata": {
        "id": "CRRCWghj_qiL"
      }
    },
    {
      "cell_type": "code",
      "source": [
        "for i in range(1, 20):\n",
        "  if(i%2==0):\n",
        "    print(i, 'even')\n",
        "  else:\n",
        "    print(i, 'odd')"
      ],
      "metadata": {
        "colab": {
          "base_uri": "https://localhost:8080/"
        },
        "id": "Ad-_PLYa_rDf",
        "outputId": "a30940b8-5703-4484-d0e3-413fa68ad302"
      },
      "execution_count": 12,
      "outputs": [
        {
          "output_type": "stream",
          "name": "stdout",
          "text": [
            "1 odd\n",
            "2 even\n",
            "3 odd\n",
            "4 even\n",
            "5 odd\n",
            "6 even\n",
            "7 odd\n",
            "8 even\n",
            "9 odd\n",
            "10 even\n",
            "11 odd\n",
            "12 even\n",
            "13 odd\n",
            "14 even\n",
            "15 odd\n",
            "16 even\n",
            "17 odd\n",
            "18 even\n",
            "19 odd\n"
          ]
        }
      ]
    },
    {
      "cell_type": "markdown",
      "source": [
        "7.⁠ ⁠Write a function sum_of_integers(a, b) that takes two integers as input from the user and returns their sum."
      ],
      "metadata": {
        "id": "YOdVAC7B_rfs"
      }
    },
    {
      "cell_type": "code",
      "source": [
        "a = int(input('a? '))\n",
        "b = int(input('b? '))\n",
        "def sum_of_integers(a, b):\n",
        "  return a+b\n",
        "\n",
        "print(\"Sum:\", sum_of_integers(a, b))"
      ],
      "metadata": {
        "colab": {
          "base_uri": "https://localhost:8080/"
        },
        "id": "qAyG0cr3_r1c",
        "outputId": "b2a96639-7f31-4097-f064-958bbb3383d3"
      },
      "execution_count": 14,
      "outputs": [
        {
          "output_type": "stream",
          "name": "stdout",
          "text": [
            "a? 1\n",
            "b? 2\n",
            "Sum: 3\n"
          ]
        }
      ]
    }
  ]
}